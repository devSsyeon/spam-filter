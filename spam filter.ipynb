{
 "cells": [
  {
   "cell_type": "markdown",
   "id": "6295af29",
   "metadata": {},
   "source": [
    "## Load data"
   ]
  },
  {
   "cell_type": "code",
   "execution_count": 2,
   "id": "47b8d323",
   "metadata": {},
   "outputs": [],
   "source": [
    "# Import library\n",
    "import pandas as pd\n",
    "import numpy as np\n",
    "import string\n",
    "import seaborn as sns\n",
    "import matplotlib.pyplot as plt\n",
    "from nltk.corpus import stopwords\n",
    "from sklearn.feature_extraction.text import CountVectorizer\n",
    "from sklearn.feature_extraction.text import TfidfTransformer\n",
    "from sklearn.model_selection import train_test_split\n",
    "from sklearn.svm import SVC\n",
    "from collections import Counter\n",
    "from sklearn.metrics import classification_report,confusion_matrix\n",
    "from sklearn.model_selection import GridSearchCV\n",
    "%matplotlib inline\n",
    "# Load data\n",
    "data = pd.read_csv('emails.csv')\n",
    "# Rename names columns \n",
    "data.columns = ['email', 'label']"
   ]
  },
  {
   "cell_type": "code",
   "execution_count": 3,
   "id": "af6af6e7",
   "metadata": {},
   "outputs": [
    {
     "name": "stdout",
     "output_type": "stream",
     "text": [
      "5728\n"
     ]
    }
   ],
   "source": [
    "print(len(data))"
   ]
  },
  {
   "cell_type": "code",
   "execution_count": 4,
   "id": "82a73d17",
   "metadata": {
    "scrolled": true
   },
   "outputs": [
    {
     "data": {
      "text/html": [
       "<div>\n",
       "<style scoped>\n",
       "    .dataframe tbody tr th:only-of-type {\n",
       "        vertical-align: middle;\n",
       "    }\n",
       "\n",
       "    .dataframe tbody tr th {\n",
       "        vertical-align: top;\n",
       "    }\n",
       "\n",
       "    .dataframe thead th {\n",
       "        text-align: right;\n",
       "    }\n",
       "</style>\n",
       "<table border=\"1\" class=\"dataframe\">\n",
       "  <thead>\n",
       "    <tr style=\"text-align: right;\">\n",
       "      <th></th>\n",
       "      <th>email</th>\n",
       "      <th>label</th>\n",
       "    </tr>\n",
       "  </thead>\n",
       "  <tbody>\n",
       "    <tr>\n",
       "      <th>0</th>\n",
       "      <td>Subject: naturally irresistible your corporate...</td>\n",
       "      <td>1</td>\n",
       "    </tr>\n",
       "    <tr>\n",
       "      <th>1</th>\n",
       "      <td>Subject: the stock trading gunslinger  fanny i...</td>\n",
       "      <td>1</td>\n",
       "    </tr>\n",
       "    <tr>\n",
       "      <th>2</th>\n",
       "      <td>Subject: unbelievable new homes made easy  im ...</td>\n",
       "      <td>1</td>\n",
       "    </tr>\n",
       "    <tr>\n",
       "      <th>3</th>\n",
       "      <td>Subject: 4 color printing special  request add...</td>\n",
       "      <td>1</td>\n",
       "    </tr>\n",
       "    <tr>\n",
       "      <th>4</th>\n",
       "      <td>Subject: do not have money , get software cds ...</td>\n",
       "      <td>1</td>\n",
       "    </tr>\n",
       "  </tbody>\n",
       "</table>\n",
       "</div>"
      ],
      "text/plain": [
       "                                               email  label\n",
       "0  Subject: naturally irresistible your corporate...      1\n",
       "1  Subject: the stock trading gunslinger  fanny i...      1\n",
       "2  Subject: unbelievable new homes made easy  im ...      1\n",
       "3  Subject: 4 color printing special  request add...      1\n",
       "4  Subject: do not have money , get software cds ...      1"
      ]
     },
     "execution_count": 4,
     "metadata": {},
     "output_type": "execute_result"
    }
   ],
   "source": [
    "data.head()"
   ]
  },
  {
   "cell_type": "code",
   "execution_count": 5,
   "id": "0270efd0",
   "metadata": {},
   "outputs": [
    {
     "name": "stdout",
     "output_type": "stream",
     "text": [
      "<class 'pandas.core.frame.DataFrame'>\n",
      "RangeIndex: 5728 entries, 0 to 5727\n",
      "Data columns (total 2 columns):\n",
      " #   Column  Non-Null Count  Dtype \n",
      "---  ------  --------------  ----- \n",
      " 0   email   5728 non-null   object\n",
      " 1   label   5728 non-null   int64 \n",
      "dtypes: int64(1), object(1)\n",
      "memory usage: 89.6+ KB\n"
     ]
    }
   ],
   "source": [
    "data.info()"
   ]
  },
  {
   "cell_type": "code",
   "execution_count": 6,
   "id": "c40ead7b",
   "metadata": {
    "scrolled": true
   },
   "outputs": [
    {
     "name": "stdout",
     "output_type": "stream",
     "text": [
      "결측값 여부 : False\n"
     ]
    }
   ],
   "source": [
    "print('결측값 여부 :', data.isnull().values.any())"
   ]
  },
  {
   "cell_type": "code",
   "execution_count": 7,
   "id": "833f184b",
   "metadata": {
    "scrolled": true
   },
   "outputs": [
    {
     "name": "stdout",
     "output_type": "stream",
     "text": [
      "corpus의 유니크한 값 : 5695\n"
     ]
    }
   ],
   "source": [
    "print('corpus의 유니크한 값 :',data['email'].nunique())"
   ]
  },
  {
   "cell_type": "code",
   "execution_count": 8,
   "id": "af97b8b1",
   "metadata": {},
   "outputs": [],
   "source": [
    "# test 열에서 중복인 내용이 있다면 중복 제거\n",
    "data.drop_duplicates(subset=['email'], inplace=True)"
   ]
  },
  {
   "cell_type": "code",
   "execution_count": 9,
   "id": "d502fe4e",
   "metadata": {},
   "outputs": [
    {
     "name": "stdout",
     "output_type": "stream",
     "text": [
      "총 샘플의 수 : 5695\n"
     ]
    }
   ],
   "source": [
    "print('총 샘플의 수 :',len(data))"
   ]
  },
  {
   "cell_type": "code",
   "execution_count": 10,
   "id": "b262f3ce",
   "metadata": {},
   "outputs": [
    {
     "data": {
      "text/plain": [
       "<AxesSubplot:>"
      ]
     },
     "execution_count": 10,
     "metadata": {},
     "output_type": "execute_result"
    },
    {
     "data": {
      "image/png": "[encoded data removed]",
      "text/plain": [
       "<Figure size 432x288 with 1 Axes>"
      ]
     },
     "metadata": {
      "needs_background": "light"
     },
     "output_type": "display_data"
    }
   ],
   "source": [
    "data['label'].value_counts().plot(kind='bar')"
   ]
  },
  {
   "cell_type": "code",
   "execution_count": 11,
   "id": "711462a5",
   "metadata": {},
   "outputs": [
    {
     "name": "stdout",
     "output_type": "stream",
     "text": [
      "정상 메일과 스팸 메일의 개수\n",
      "   label  count\n",
      "0      0   4327\n",
      "1      1   1368\n"
     ]
    }
   ],
   "source": [
    "print('정상 메일과 스팸 메일의 개수')\n",
    "print(data.groupby('label').size().reset_index(name='count'))"
   ]
  },
  {
   "cell_type": "code",
   "execution_count": 12,
   "id": "98e0f1be",
   "metadata": {},
   "outputs": [
    {
     "name": "stdout",
     "output_type": "stream",
     "text": [
      "정상 메일의 비율 = 75.979%\n",
      "스팸 메일의 비율 = 24.021%\n"
     ]
    }
   ],
   "source": [
    "print(f'정상 메일의 비율 = {round(data[\"label\"].value_counts()[0]/len(data) * 100,3)}%')\n",
    "print(f'스팸 메일의 비율 = {round(data[\"label\"].value_counts()[1]/len(data) * 100,3)}%')"
   ]
  },
  {
   "cell_type": "code",
   "execution_count": 13,
   "id": "f177d1ec",
   "metadata": {
    "scrolled": true
   },
   "outputs": [
    {
     "name": "stdout",
     "output_type": "stream",
     "text": [
      "메일 본문의 개수: 5695\n",
      "레이블의 개수: 5695\n"
     ]
    }
   ],
   "source": [
    "X_data = data['email']\n",
    "y_data = data['label']\n",
    "print('메일 본문의 개수: {}'.format(len(X_data)))\n",
    "print('레이블의 개수: {}'.format(len(y_data)))"
   ]
  },
  {
   "cell_type": "code",
   "execution_count": 14,
   "id": "37799e58",
   "metadata": {
    "scrolled": false
   },
   "outputs": [
    {
     "data": {
      "text/plain": [
       "array([<AxesSubplot:title={'center':'0'}>,\n",
       "       <AxesSubplot:title={'center':'1'}>], dtype=object)"
      ]
     },
     "execution_count": 14,
     "metadata": {},
     "output_type": "execute_result"
    },
    {
     "data": {
      "image/png": "[encoded data removed]",
      "text/plain": [
       "<Figure size 864x288 with 2 Axes>"
      ]
     },
     "metadata": {
      "needs_background": "light"
     },
     "output_type": "display_data"
    }
   ],
   "source": [
    "data[\"length\"] = data[\"email\"].apply(len)\n",
    "data.sort_values(by='length', ascending=False).head(10)\n",
    "\n",
    "data.hist(column = 'length', by ='label',figsize=(12,4), bins = 5)"
   ]
  },
  {
   "cell_type": "code",
   "execution_count": 15,
   "id": "c52698f4",
   "metadata": {},
   "outputs": [],
   "source": [
    "import re\n",
    "data['email'] = data['email'].apply(lambda x : re.sub(r'[\\n\\t]+', ' ', x))"
   ]
  },
  {
   "cell_type": "code",
   "execution_count": 16,
   "id": "98a5ac00",
   "metadata": {},
   "outputs": [],
   "source": [
    "data['email'] = data['email'].apply(lambda x: re.sub(r'[^a-zA-Z]+', ' ', x))"
   ]
  },
  {
   "cell_type": "code",
   "execution_count": 17,
   "id": "3de690ea",
   "metadata": {},
   "outputs": [],
   "source": [
    "data['email'] = data['email'].apply(lambda x:x.strip())\n",
    "data['emil'] = data['email'].apply(lambda x:x.lower())"
   ]
  },
  {
   "cell_type": "code",
   "execution_count": 24,
   "id": "bbdef4ba",
   "metadata": {},
   "outputs": [],
   "source": [
    "from nltk.tokenize import word_tokenize\n",
    "def remove_stopwords(text):\n",
    "    filtered_tokens = [token for token in word_tokenize(text) if token not in stopwords.words('english')]\n",
    "    filtered_text = ' '.join(filtered_tokens)\n",
    "    return filtered_text"
   ]
  },
  {
   "cell_type": "code",
   "execution_count": 25,
   "id": "5140a6c7",
   "metadata": {},
   "outputs": [],
   "source": [
    "data['email'] = data['email'].apply(remove_stopwords)"
   ]
  },
  {
   "cell_type": "code",
   "execution_count": 26,
   "id": "6bdefcc0",
   "metadata": {},
   "outputs": [],
   "source": [
    "from nltk.stem import PorterStemmer\n",
    "stemmer = PorterStemmer()\n",
    "def stemming(text):\n",
    "    stemmed_tokens = [stemmer.stem(token) for token in word_tokenize(text)]\n",
    "    stemmed_text = ' '.join(stemmed_tokens)\n",
    "    return stemmed_text"
   ]
  },
  {
   "cell_type": "code",
   "execution_count": 27,
   "id": "6c7ccceb",
   "metadata": {},
   "outputs": [],
   "source": [
    "data['email'] = data['email'].apply(stemming)"
   ]
  },
  {
   "cell_type": "code",
   "execution_count": 29,
   "id": "865dc46c",
   "metadata": {
    "scrolled": true
   },
   "outputs": [
    {
     "name": "stdout",
     "output_type": "stream",
     "text": [
      "메일 본문의 개수: 5695\n",
      "레이블의 개수: 5695\n"
     ]
    }
   ],
   "source": [
    "X_data = data['email']\n",
    "y_data = data['label']\n",
    "print('메일 본문의 개수: {}'.format(len(X_data)))\n",
    "print('레이블의 개수: {}'.format(len(y_data)))"
   ]
  },
  {
   "cell_type": "markdown",
   "id": "81bb8ce9",
   "metadata": {},
   "source": [
    "## countVectorizer"
   ]
  },
  {
   "cell_type": "code",
   "execution_count": 30,
   "id": "6dc7b4c3",
   "metadata": {},
   "outputs": [],
   "source": [
    "X_train, X_test, y_train, y_test = train_test_split(X_data, y_data, test_size=0.2, random_state=0, stratify=y_data)"
   ]
  },
  {
   "cell_type": "code",
   "execution_count": 28,
   "id": "7553a9d8",
   "metadata": {},
   "outputs": [],
   "source": [
    "from sklearn.feature_extraction.text import CountVectorizer"
   ]
  },
  {
   "cell_type": "code",
   "execution_count": 31,
   "id": "893efd2e",
   "metadata": {},
   "outputs": [],
   "source": [
    "vectorization = CountVectorizer()\n",
    "train_features = vectorization.fit_transform(X_train)"
   ]
  },
  {
   "cell_type": "code",
   "execution_count": 32,
   "id": "bb84bbf5",
   "metadata": {
    "scrolled": true
   },
   "outputs": [
    {
     "name": "stdout",
     "output_type": "stream",
     "text": [
      "  (0, 19414)\t3\n",
      "  (0, 1204)\t8\n",
      "  (0, 749)\t8\n",
      "  (0, 19528)\t7\n",
      "  (0, 17714)\t7\n",
      "  (0, 14741)\t6\n",
      "  (0, 15341)\t4\n",
      "  (0, 16535)\t1\n",
      "  (0, 7448)\t4\n",
      "  (0, 12639)\t3\n",
      "  (0, 16725)\t2\n",
      "  (0, 15933)\t3\n",
      "  (0, 4122)\t1\n",
      "  (0, 5157)\t1\n",
      "  (0, 4779)\t6\n",
      "  (0, 11568)\t2\n",
      "  (0, 18381)\t1\n",
      "  (0, 2294)\t1\n",
      "  (0, 10328)\t2\n",
      "  (0, 12783)\t1\n",
      "  (0, 22417)\t2\n",
      "  (0, 990)\t2\n",
      "  (0, 20140)\t3\n",
      "  (0, 7550)\t1\n",
      "  (0, 10333)\t2\n",
      "  :\t:\n",
      "  (4555, 5200)\t1\n",
      "  (4555, 13725)\t1\n",
      "  (4555, 14985)\t1\n",
      "  (4555, 16792)\t1\n",
      "  (4555, 11512)\t1\n",
      "  (4555, 10031)\t1\n",
      "  (4555, 18070)\t1\n",
      "  (4555, 19487)\t1\n",
      "  (4555, 457)\t1\n",
      "  (4555, 8756)\t1\n",
      "  (4555, 18219)\t1\n",
      "  (4555, 9610)\t1\n",
      "  (4555, 21949)\t1\n",
      "  (4555, 19599)\t1\n",
      "  (4555, 1719)\t1\n",
      "  (4555, 15325)\t1\n",
      "  (4555, 12937)\t2\n",
      "  (4555, 12952)\t1\n",
      "  (4555, 16268)\t1\n",
      "  (4555, 17014)\t1\n",
      "  (4555, 14452)\t1\n",
      "  (4555, 4155)\t1\n",
      "  (4555, 9297)\t1\n",
      "  (4555, 18146)\t1\n",
      "  (4555, 4536)\t1\n"
     ]
    }
   ],
   "source": [
    "print(train_features)"
   ]
  },
  {
   "cell_type": "code",
   "execution_count": 33,
   "id": "fed85108",
   "metadata": {},
   "outputs": [],
   "source": [
    "test_features = vectorization.transform(X_test)"
   ]
  },
  {
   "cell_type": "code",
   "execution_count": 34,
   "id": "83669970",
   "metadata": {},
   "outputs": [
    {
     "name": "stdout",
     "output_type": "stream",
     "text": [
      "  (0, 47)\t3\n",
      "  (0, 176)\t1\n",
      "  (0, 869)\t1\n",
      "  (0, 1137)\t1\n",
      "  (0, 3719)\t1\n",
      "  (0, 4410)\t4\n",
      "  (0, 4871)\t1\n",
      "  (0, 7448)\t1\n",
      "  (0, 8417)\t1\n",
      "  (0, 8867)\t1\n",
      "  (0, 9673)\t1\n",
      "  (0, 10908)\t1\n",
      "  (0, 11407)\t1\n",
      "  (0, 12963)\t4\n",
      "  (0, 13517)\t1\n",
      "  (0, 13613)\t1\n",
      "  (0, 14136)\t1\n",
      "  (0, 14325)\t1\n",
      "  (0, 14473)\t1\n",
      "  (0, 15341)\t1\n",
      "  (0, 15531)\t1\n",
      "  (0, 16291)\t1\n",
      "  (0, 16318)\t1\n",
      "  (0, 16725)\t1\n",
      "  (0, 16942)\t1\n",
      "  :\t:\n",
      "  (1138, 4422)\t1\n",
      "  (1138, 4811)\t1\n",
      "  (1138, 5924)\t1\n",
      "  (1138, 6409)\t1\n",
      "  (1138, 6410)\t2\n",
      "  (1138, 8342)\t1\n",
      "  (1138, 8850)\t1\n",
      "  (1138, 9764)\t1\n",
      "  (1138, 10260)\t2\n",
      "  (1138, 10645)\t2\n",
      "  (1138, 10663)\t1\n",
      "  (1138, 12854)\t1\n",
      "  (1138, 13381)\t1\n",
      "  (1138, 15341)\t2\n",
      "  (1138, 15388)\t1\n",
      "  (1138, 15850)\t1\n",
      "  (1138, 16741)\t1\n",
      "  (1138, 16923)\t1\n",
      "  (1138, 18264)\t1\n",
      "  (1138, 19414)\t1\n",
      "  (1138, 19993)\t1\n",
      "  (1138, 20140)\t1\n",
      "  (1138, 20321)\t1\n",
      "  (1138, 20736)\t2\n",
      "  (1138, 21625)\t2\n"
     ]
    }
   ],
   "source": [
    "print(test_features)"
   ]
  },
  {
   "cell_type": "code",
   "execution_count": 35,
   "id": "2910af14",
   "metadata": {},
   "outputs": [],
   "source": [
    "from sklearn.model_selection import cross_val_score"
   ]
  },
  {
   "cell_type": "markdown",
   "id": "21fcf91b",
   "metadata": {},
   "source": [
    "### Naive Bayes Classifier"
   ]
  },
  {
   "cell_type": "code",
   "execution_count": 36,
   "id": "502d7fa8",
   "metadata": {},
   "outputs": [],
   "source": [
    "from sklearn.naive_bayes import MultinomialNB"
   ]
  },
  {
   "cell_type": "code",
   "execution_count": 37,
   "id": "909feeeb",
   "metadata": {},
   "outputs": [],
   "source": [
    "mnb = MultinomialNB()"
   ]
  },
  {
   "cell_type": "code",
   "execution_count": 38,
   "id": "23ce7e58",
   "metadata": {},
   "outputs": [
    {
     "data": {
      "text/plain": [
       "MultinomialNB()"
      ]
     },
     "execution_count": 38,
     "metadata": {},
     "output_type": "execute_result"
    }
   ],
   "source": [
    "mnb.fit(train_features, y_train)"
   ]
  },
  {
   "cell_type": "code",
   "execution_count": 39,
   "id": "bbc3a5d3",
   "metadata": {},
   "outputs": [],
   "source": [
    "mnb_cv_score = cross_val_score(mnb, train_features, y_train, cv = 5)"
   ]
  },
  {
   "cell_type": "code",
   "execution_count": 40,
   "id": "37333265",
   "metadata": {},
   "outputs": [
    {
     "data": {
      "text/plain": [
       "array([0.9879386 , 0.98572997, 0.98353458, 0.99121844, 0.98792536])"
      ]
     },
     "execution_count": 40,
     "metadata": {},
     "output_type": "execute_result"
    }
   ],
   "source": [
    "mnb_cv_score"
   ]
  },
  {
   "cell_type": "code",
   "execution_count": 41,
   "id": "68b6e2f5",
   "metadata": {},
   "outputs": [
    {
     "data": {
      "text/plain": [
       "0.9872693877944038"
      ]
     },
     "execution_count": 41,
     "metadata": {},
     "output_type": "execute_result"
    }
   ],
   "source": [
    "mnb_cv_score.mean()"
   ]
  },
  {
   "cell_type": "code",
   "execution_count": 42,
   "id": "bdf70c80",
   "metadata": {},
   "outputs": [],
   "source": [
    "mnb_test_score = mnb.score(test_features, y_test)"
   ]
  },
  {
   "cell_type": "code",
   "execution_count": 43,
   "id": "4eb33c50",
   "metadata": {},
   "outputs": [
    {
     "data": {
      "text/plain": [
       "0.990342405618964"
      ]
     },
     "execution_count": 43,
     "metadata": {},
     "output_type": "execute_result"
    }
   ],
   "source": [
    "mnb_test_score"
   ]
  },
  {
   "cell_type": "markdown",
   "id": "1d4ea50d",
   "metadata": {},
   "source": [
    "### Logistic Regression"
   ]
  },
  {
   "cell_type": "code",
   "execution_count": 44,
   "id": "5d2cdaed",
   "metadata": {},
   "outputs": [],
   "source": [
    "from sklearn.linear_model import LogisticRegression"
   ]
  },
  {
   "cell_type": "code",
   "execution_count": 45,
   "id": "ff263f50",
   "metadata": {},
   "outputs": [],
   "source": [
    "lr = LogisticRegression(max_iter = 1000)"
   ]
  },
  {
   "cell_type": "code",
   "execution_count": 46,
   "id": "6b3c581f",
   "metadata": {},
   "outputs": [
    {
     "data": {
      "text/plain": [
       "LogisticRegression(max_iter=1000)"
      ]
     },
     "execution_count": 46,
     "metadata": {},
     "output_type": "execute_result"
    }
   ],
   "source": [
    "lr.fit(train_features, y_train)"
   ]
  },
  {
   "cell_type": "code",
   "execution_count": 47,
   "id": "6b8fbd58",
   "metadata": {},
   "outputs": [],
   "source": [
    "lr_cv_score = cross_val_score(lr, train_features, y_train, cv = 5)"
   ]
  },
  {
   "cell_type": "code",
   "execution_count": 48,
   "id": "53841d0d",
   "metadata": {},
   "outputs": [
    {
     "data": {
      "text/plain": [
       "array([0.99013158, 0.99012075, 0.98792536, 0.98463227, 0.98463227])"
      ]
     },
     "execution_count": 48,
     "metadata": {},
     "output_type": "execute_result"
    }
   ],
   "source": [
    "lr_cv_score"
   ]
  },
  {
   "cell_type": "code",
   "execution_count": 49,
   "id": "8ccd3ff9",
   "metadata": {},
   "outputs": [
    {
     "data": {
      "text/plain": [
       "0.9874884453174648"
      ]
     },
     "execution_count": 49,
     "metadata": {},
     "output_type": "execute_result"
    }
   ],
   "source": [
    "lr_cv_score.mean()"
   ]
  },
  {
   "cell_type": "code",
   "execution_count": 50,
   "id": "b6a65d36",
   "metadata": {},
   "outputs": [],
   "source": [
    "lr_test_score = lr.score(test_features, y_test)"
   ]
  },
  {
   "cell_type": "code",
   "execution_count": 51,
   "id": "1810b090",
   "metadata": {},
   "outputs": [
    {
     "data": {
      "text/plain": [
       "0.990342405618964"
      ]
     },
     "execution_count": 51,
     "metadata": {},
     "output_type": "execute_result"
    }
   ],
   "source": [
    "lr_test_score"
   ]
  },
  {
   "cell_type": "markdown",
   "id": "42cf653a",
   "metadata": {},
   "source": [
    "### SVM (Support Vector Machine)"
   ]
  },
  {
   "cell_type": "code",
   "execution_count": 52,
   "id": "7b6abdda",
   "metadata": {},
   "outputs": [],
   "source": [
    "from sklearn.svm import LinearSVC"
   ]
  },
  {
   "cell_type": "code",
   "execution_count": 53,
   "id": "7b08363d",
   "metadata": {},
   "outputs": [],
   "source": [
    "svm = LinearSVC(max_iter = 100000, random_state = 42)"
   ]
  },
  {
   "cell_type": "code",
   "execution_count": 54,
   "id": "e4ad73ca",
   "metadata": {},
   "outputs": [
    {
     "data": {
      "text/plain": [
       "LinearSVC(max_iter=100000, random_state=42)"
      ]
     },
     "execution_count": 54,
     "metadata": {},
     "output_type": "execute_result"
    }
   ],
   "source": [
    "svm.fit(train_features, y_train)"
   ]
  },
  {
   "cell_type": "code",
   "execution_count": 55,
   "id": "1f443199",
   "metadata": {},
   "outputs": [],
   "source": [
    "svm_cv_score = cross_val_score(svm, train_features, y_train, cv = 5)"
   ]
  },
  {
   "cell_type": "code",
   "execution_count": 56,
   "id": "d614c088",
   "metadata": {},
   "outputs": [
    {
     "data": {
      "text/plain": [
       "array([0.98574561, 0.98353458, 0.98463227, 0.9791438 , 0.9780461 ])"
      ]
     },
     "execution_count": 56,
     "metadata": {},
     "output_type": "execute_result"
    }
   ],
   "source": [
    "svm_cv_score"
   ]
  },
  {
   "cell_type": "code",
   "execution_count": 57,
   "id": "62191775",
   "metadata": {},
   "outputs": [
    {
     "data": {
      "text/plain": [
       "0.9822204729716718"
      ]
     },
     "execution_count": 57,
     "metadata": {},
     "output_type": "execute_result"
    }
   ],
   "source": [
    "svm_cv_score.mean()"
   ]
  },
  {
   "cell_type": "code",
   "execution_count": 58,
   "id": "5117f889",
   "metadata": {},
   "outputs": [],
   "source": [
    "svm_test_score = svm.score(test_features,y_test)"
   ]
  },
  {
   "cell_type": "code",
   "execution_count": 59,
   "id": "4ccbf842",
   "metadata": {},
   "outputs": [
    {
     "data": {
      "text/plain": [
       "0.9885864793678666"
      ]
     },
     "execution_count": 59,
     "metadata": {},
     "output_type": "execute_result"
    }
   ],
   "source": [
    "svm_test_score"
   ]
  },
  {
   "cell_type": "markdown",
   "id": "17db6284",
   "metadata": {},
   "source": [
    "## Classification Models with TF-IDF Features"
   ]
  },
  {
   "cell_type": "code",
   "execution_count": 60,
   "id": "5a97fc6d",
   "metadata": {},
   "outputs": [],
   "source": [
    "from sklearn.feature_extraction.text import TfidfVectorizer"
   ]
  },
  {
   "cell_type": "code",
   "execution_count": 61,
   "id": "754b0e5f",
   "metadata": {},
   "outputs": [],
   "source": [
    "tfidf = TfidfVectorizer()"
   ]
  },
  {
   "cell_type": "code",
   "execution_count": 62,
   "id": "c4904d23",
   "metadata": {},
   "outputs": [],
   "source": [
    "train_features = tfidf.fit_transform(X_train)"
   ]
  },
  {
   "cell_type": "code",
   "execution_count": 63,
   "id": "b5feb089",
   "metadata": {},
   "outputs": [
    {
     "data": {
      "text/plain": [
       "<4556x22934 sparse matrix of type '<class 'numpy.float64'>'\n",
       "\twith 376354 stored elements in Compressed Sparse Row format>"
      ]
     },
     "execution_count": 63,
     "metadata": {},
     "output_type": "execute_result"
    }
   ],
   "source": [
    "train_features"
   ]
  },
  {
   "cell_type": "code",
   "execution_count": 64,
   "id": "e46fcf92",
   "metadata": {},
   "outputs": [],
   "source": [
    "test_features = tfidf.transform(X_test)"
   ]
  },
  {
   "cell_type": "code",
   "execution_count": 65,
   "id": "4f97a362",
   "metadata": {},
   "outputs": [
    {
     "data": {
      "text/plain": [
       "<1139x22934 sparse matrix of type '<class 'numpy.float64'>'\n",
       "\twith 93137 stored elements in Compressed Sparse Row format>"
      ]
     },
     "execution_count": 65,
     "metadata": {},
     "output_type": "execute_result"
    }
   ],
   "source": [
    "test_features"
   ]
  },
  {
   "cell_type": "markdown",
   "id": "46c80ecb",
   "metadata": {},
   "source": [
    "### Naive Bayes"
   ]
  },
  {
   "cell_type": "code",
   "execution_count": 66,
   "id": "cf746ab1",
   "metadata": {},
   "outputs": [],
   "source": [
    "mnb = MultinomialNB()"
   ]
  },
  {
   "cell_type": "code",
   "execution_count": 67,
   "id": "8af841e6",
   "metadata": {},
   "outputs": [
    {
     "data": {
      "text/plain": [
       "MultinomialNB()"
      ]
     },
     "execution_count": 67,
     "metadata": {},
     "output_type": "execute_result"
    }
   ],
   "source": [
    "mnb.fit(train_features, y_train)"
   ]
  },
  {
   "cell_type": "code",
   "execution_count": 68,
   "id": "ca5b80ac",
   "metadata": {},
   "outputs": [],
   "source": [
    "mnb_cv_score = cross_val_score(mnb, train_features, y_train, cv = 5)"
   ]
  },
  {
   "cell_type": "code",
   "execution_count": 69,
   "id": "bc6383b9",
   "metadata": {},
   "outputs": [
    {
     "data": {
      "text/plain": [
       "array([0.88377193, 0.89681668, 0.89023052, 0.88254665, 0.8715697 ])"
      ]
     },
     "execution_count": 69,
     "metadata": {},
     "output_type": "execute_result"
    }
   ],
   "source": [
    "mnb_cv_score"
   ]
  },
  {
   "cell_type": "code",
   "execution_count": 70,
   "id": "273e1a50",
   "metadata": {},
   "outputs": [
    {
     "data": {
      "text/plain": [
       "0.8849870972711692"
      ]
     },
     "execution_count": 70,
     "metadata": {},
     "output_type": "execute_result"
    }
   ],
   "source": [
    "mnb_cv_score.mean()"
   ]
  },
  {
   "cell_type": "code",
   "execution_count": 71,
   "id": "26ee74a5",
   "metadata": {},
   "outputs": [],
   "source": [
    "mnb_test_score = mnb.score(test_features, y_test)"
   ]
  },
  {
   "cell_type": "code",
   "execution_count": 72,
   "id": "cd89a65c",
   "metadata": {},
   "outputs": [
    {
     "data": {
      "text/plain": [
       "0.9016681299385426"
      ]
     },
     "execution_count": 72,
     "metadata": {},
     "output_type": "execute_result"
    }
   ],
   "source": [
    "mnb_test_score"
   ]
  },
  {
   "cell_type": "markdown",
   "id": "5cf05079",
   "metadata": {},
   "source": [
    "### Logistic regression"
   ]
  },
  {
   "cell_type": "code",
   "execution_count": 73,
   "id": "1d310ed5",
   "metadata": {},
   "outputs": [
    {
     "data": {
      "text/plain": [
       "LogisticRegression(max_iter=1000)"
      ]
     },
     "execution_count": 73,
     "metadata": {},
     "output_type": "execute_result"
    }
   ],
   "source": [
    "lr = LogisticRegression(max_iter=1000)\n",
    "lr.fit(train_features, y_train)"
   ]
  },
  {
   "cell_type": "code",
   "execution_count": 74,
   "id": "89fcf81e",
   "metadata": {},
   "outputs": [],
   "source": [
    "lr_cv_score = cross_val_score(lr, train_features, y_train, cv= 5)"
   ]
  },
  {
   "cell_type": "code",
   "execution_count": 75,
   "id": "68c0fcc4",
   "metadata": {},
   "outputs": [
    {
     "data": {
      "text/plain": [
       "array([0.97916667, 0.98133919, 0.97145993, 0.9780461 , 0.98353458])"
      ]
     },
     "execution_count": 75,
     "metadata": {},
     "output_type": "execute_result"
    }
   ],
   "source": [
    "lr_cv_score"
   ]
  },
  {
   "cell_type": "code",
   "execution_count": 76,
   "id": "99e74754",
   "metadata": {},
   "outputs": [
    {
     "data": {
      "text/plain": [
       "0.9787092938163191"
      ]
     },
     "execution_count": 76,
     "metadata": {},
     "output_type": "execute_result"
    }
   ],
   "source": [
    "lr_cv_score.mean()"
   ]
  },
  {
   "cell_type": "code",
   "execution_count": 77,
   "id": "b9840ad1",
   "metadata": {},
   "outputs": [
    {
     "data": {
      "text/plain": [
       "0.9885864793678666"
      ]
     },
     "execution_count": 77,
     "metadata": {},
     "output_type": "execute_result"
    }
   ],
   "source": [
    "lr_test_score = lr.score(test_features, y_test)\n",
    "lr_test_score"
   ]
  },
  {
   "cell_type": "markdown",
   "id": "77932109",
   "metadata": {},
   "source": [
    "### SVM(support vector machine)"
   ]
  },
  {
   "cell_type": "code",
   "execution_count": 78,
   "id": "a2f650b3",
   "metadata": {},
   "outputs": [
    {
     "data": {
      "text/plain": [
       "LinearSVC(max_iter=100000, random_state=42)"
      ]
     },
     "execution_count": 78,
     "metadata": {},
     "output_type": "execute_result"
    }
   ],
   "source": [
    "svm = LinearSVC(max_iter = 100000, random_state =42)\n",
    "svm.fit(train_features, y_train)"
   ]
  },
  {
   "cell_type": "code",
   "execution_count": 79,
   "id": "edc9deb6",
   "metadata": {},
   "outputs": [],
   "source": [
    "svm_cv_score = cross_val_score(svm, train_features, y_train, cv=5)"
   ]
  },
  {
   "cell_type": "code",
   "execution_count": 80,
   "id": "602b3973",
   "metadata": {},
   "outputs": [
    {
     "data": {
      "text/plain": [
       "array([0.99342105, 0.99341383, 0.98902305, 0.99012075, 0.99451153])"
      ]
     },
     "execution_count": 80,
     "metadata": {},
     "output_type": "execute_result"
    }
   ],
   "source": [
    "svm_cv_score"
   ]
  },
  {
   "cell_type": "code",
   "execution_count": 81,
   "id": "c49f2ed6",
   "metadata": {},
   "outputs": [
    {
     "data": {
      "text/plain": [
       "0.9920980414813103"
      ]
     },
     "execution_count": 81,
     "metadata": {},
     "output_type": "execute_result"
    }
   ],
   "source": [
    "svm_cv_score.mean()"
   ]
  },
  {
   "cell_type": "code",
   "execution_count": 82,
   "id": "ec874233",
   "metadata": {},
   "outputs": [
    {
     "data": {
      "text/plain": [
       "0.9947322212467077"
      ]
     },
     "execution_count": 82,
     "metadata": {},
     "output_type": "execute_result"
    }
   ],
   "source": [
    "svm_test_score = svm.score(test_features, y_test)\n",
    "svm_test_score"
   ]
  },
  {
   "cell_type": "markdown",
   "id": "9c717a6a",
   "metadata": {},
   "source": [
    "## Confusion matrix"
   ]
  },
  {
   "cell_type": "code",
   "execution_count": 83,
   "id": "799eb101",
   "metadata": {},
   "outputs": [],
   "source": [
    "# confusion matrix\n",
    "from sklearn.metrics import confusion_matrix, plot_confusion_matrix"
   ]
  },
  {
   "cell_type": "code",
   "execution_count": 92,
   "id": "8347fa0a",
   "metadata": {},
   "outputs": [
    {
     "name": "stderr",
     "output_type": "stream",
     "text": [
      "C:\\Users\\82103\\anaconda3\\lib\\site-packages\\sklearn\\utils\\deprecation.py:87: FutureWarning: Function plot_confusion_matrix is deprecated; Function `plot_confusion_matrix` is deprecated in 1.0 and will be removed in 1.2. Use one of the class methods: ConfusionMatrixDisplay.from_predictions or ConfusionMatrixDisplay.from_estimator.\n",
      "  warnings.warn(msg, category=FutureWarning)\n"
     ]
    },
    {
     "data": {
      "image/png": "[encoded data removed]",
      "text/plain": [
       "<Figure size 432x288 with 2 Axes>"
      ]
     },
     "metadata": {
      "needs_background": "light"
     },
     "output_type": "display_data"
    }
   ],
   "source": [
    "import matplotlib.pyplot as plt\n",
    "label=['spam', 'not spam'] # 라벨 설정\n",
    "plot = plot_confusion_matrix(svm, # 분류 모델\n",
    "                             test_features, y_test, # 예측 데이터와 예측값의 정답(y_true)\n",
    "                             display_labels=label, # 표에 표시할 labels\n",
    "                             cmap=plt.cm.Blues, # 컬러맵(plt.cm.Reds, plt.cm.rainbow 등이 있음)\n",
    "                             normalize=None) # 'true', 'pred', 'all' 중에서 지정 가능. default=None"
   ]
  },
  {
   "cell_type": "code",
   "execution_count": null,
   "id": "9953a8c8",
   "metadata": {},
   "outputs": [],
   "source": []
  },
  {
   "cell_type": "code",
   "execution_count": null,
   "id": "323a2352",
   "metadata": {},
   "outputs": [],
   "source": []
  },
  {
   "cell_type": "code",
   "execution_count": null,
   "id": "bc4f3e68",
   "metadata": {},
   "outputs": [],
   "source": []
  }
 ],
 "metadata": {
  "kernelspec": {
   "display_name": "Python 3 (ipykernel)",
   "language": "python",
   "name": "python3"
  },
  "language_info": {
   "codemirror_mode": {
    "name": "ipython",
    "version": 3
   },
   "file_extension": ".py",
   "mimetype": "text/x-python",
   "name": "python",
   "nbconvert_exporter": "python",
   "pygments_lexer": "ipython3",
   "version": "3.9.9"
  }
 },
 "nbformat": 4,
 "nbformat_minor": 5
}
